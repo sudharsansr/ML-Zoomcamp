{
 "cells": [
  {
   "cell_type": "code",
   "execution_count": 82,
   "id": "973fb978",
   "metadata": {},
   "outputs": [],
   "source": [
    "import numpy as np\n",
    "import pandas as pd"
   ]
  },
  {
   "cell_type": "markdown",
   "id": "59b96a58",
   "metadata": {},
   "source": [
    "### Question 1"
   ]
  },
  {
   "cell_type": "code",
   "execution_count": 83,
   "id": "1ec092b8",
   "metadata": {},
   "outputs": [
    {
     "data": {
      "text/plain": [
       "'1.20.3'"
      ]
     },
     "execution_count": 83,
     "metadata": {},
     "output_type": "execute_result"
    }
   ],
   "source": [
    "##What's the version of NumPy that you installed?\n",
    "np.__version__"
   ]
  },
  {
   "cell_type": "markdown",
   "id": "19fa07b4",
   "metadata": {},
   "source": [
    "### Question 2"
   ]
  },
  {
   "cell_type": "code",
   "execution_count": 84,
   "id": "a711480e",
   "metadata": {},
   "outputs": [
    {
     "data": {
      "text/plain": [
       "'1.3.2'"
      ]
     },
     "execution_count": 84,
     "metadata": {},
     "output_type": "execute_result"
    }
   ],
   "source": [
    "##What's the version of Pandas that you installed? \n",
    "pd.__version__"
   ]
  },
  {
   "cell_type": "markdown",
   "id": "0a3a9287",
   "metadata": {},
   "source": [
    "### Question 3"
   ]
  },
  {
   "cell_type": "code",
   "execution_count": 85,
   "id": "1be62794",
   "metadata": {},
   "outputs": [
    {
     "data": {
      "text/html": [
       "<div>\n",
       "<style scoped>\n",
       "    .dataframe tbody tr th:only-of-type {\n",
       "        vertical-align: middle;\n",
       "    }\n",
       "\n",
       "    .dataframe tbody tr th {\n",
       "        vertical-align: top;\n",
       "    }\n",
       "\n",
       "    .dataframe thead th {\n",
       "        text-align: right;\n",
       "    }\n",
       "</style>\n",
       "<table border=\"1\" class=\"dataframe\">\n",
       "  <thead>\n",
       "    <tr style=\"text-align: right;\">\n",
       "      <th></th>\n",
       "      <th>Make</th>\n",
       "      <th>Model</th>\n",
       "      <th>Year</th>\n",
       "      <th>Engine Fuel Type</th>\n",
       "      <th>Engine HP</th>\n",
       "      <th>Engine Cylinders</th>\n",
       "      <th>Transmission Type</th>\n",
       "      <th>Driven_Wheels</th>\n",
       "      <th>Number of Doors</th>\n",
       "      <th>Market Category</th>\n",
       "      <th>Vehicle Size</th>\n",
       "      <th>Vehicle Style</th>\n",
       "      <th>highway MPG</th>\n",
       "      <th>city mpg</th>\n",
       "      <th>Popularity</th>\n",
       "      <th>MSRP</th>\n",
       "    </tr>\n",
       "  </thead>\n",
       "  <tbody>\n",
       "    <tr>\n",
       "      <th>0</th>\n",
       "      <td>BMW</td>\n",
       "      <td>1 Series M</td>\n",
       "      <td>2011</td>\n",
       "      <td>premium unleaded (required)</td>\n",
       "      <td>335.0</td>\n",
       "      <td>6.0</td>\n",
       "      <td>MANUAL</td>\n",
       "      <td>rear wheel drive</td>\n",
       "      <td>2.0</td>\n",
       "      <td>Factory Tuner,Luxury,High-Performance</td>\n",
       "      <td>Compact</td>\n",
       "      <td>Coupe</td>\n",
       "      <td>26</td>\n",
       "      <td>19</td>\n",
       "      <td>3916</td>\n",
       "      <td>46135</td>\n",
       "    </tr>\n",
       "    <tr>\n",
       "      <th>1</th>\n",
       "      <td>BMW</td>\n",
       "      <td>1 Series</td>\n",
       "      <td>2011</td>\n",
       "      <td>premium unleaded (required)</td>\n",
       "      <td>300.0</td>\n",
       "      <td>6.0</td>\n",
       "      <td>MANUAL</td>\n",
       "      <td>rear wheel drive</td>\n",
       "      <td>2.0</td>\n",
       "      <td>Luxury,Performance</td>\n",
       "      <td>Compact</td>\n",
       "      <td>Convertible</td>\n",
       "      <td>28</td>\n",
       "      <td>19</td>\n",
       "      <td>3916</td>\n",
       "      <td>40650</td>\n",
       "    </tr>\n",
       "    <tr>\n",
       "      <th>2</th>\n",
       "      <td>BMW</td>\n",
       "      <td>1 Series</td>\n",
       "      <td>2011</td>\n",
       "      <td>premium unleaded (required)</td>\n",
       "      <td>300.0</td>\n",
       "      <td>6.0</td>\n",
       "      <td>MANUAL</td>\n",
       "      <td>rear wheel drive</td>\n",
       "      <td>2.0</td>\n",
       "      <td>Luxury,High-Performance</td>\n",
       "      <td>Compact</td>\n",
       "      <td>Coupe</td>\n",
       "      <td>28</td>\n",
       "      <td>20</td>\n",
       "      <td>3916</td>\n",
       "      <td>36350</td>\n",
       "    </tr>\n",
       "    <tr>\n",
       "      <th>3</th>\n",
       "      <td>BMW</td>\n",
       "      <td>1 Series</td>\n",
       "      <td>2011</td>\n",
       "      <td>premium unleaded (required)</td>\n",
       "      <td>230.0</td>\n",
       "      <td>6.0</td>\n",
       "      <td>MANUAL</td>\n",
       "      <td>rear wheel drive</td>\n",
       "      <td>2.0</td>\n",
       "      <td>Luxury,Performance</td>\n",
       "      <td>Compact</td>\n",
       "      <td>Coupe</td>\n",
       "      <td>28</td>\n",
       "      <td>18</td>\n",
       "      <td>3916</td>\n",
       "      <td>29450</td>\n",
       "    </tr>\n",
       "    <tr>\n",
       "      <th>4</th>\n",
       "      <td>BMW</td>\n",
       "      <td>1 Series</td>\n",
       "      <td>2011</td>\n",
       "      <td>premium unleaded (required)</td>\n",
       "      <td>230.0</td>\n",
       "      <td>6.0</td>\n",
       "      <td>MANUAL</td>\n",
       "      <td>rear wheel drive</td>\n",
       "      <td>2.0</td>\n",
       "      <td>Luxury</td>\n",
       "      <td>Compact</td>\n",
       "      <td>Convertible</td>\n",
       "      <td>28</td>\n",
       "      <td>18</td>\n",
       "      <td>3916</td>\n",
       "      <td>34500</td>\n",
       "    </tr>\n",
       "  </tbody>\n",
       "</table>\n",
       "</div>"
      ],
      "text/plain": [
       "  Make       Model  Year             Engine Fuel Type  Engine HP  \\\n",
       "0  BMW  1 Series M  2011  premium unleaded (required)      335.0   \n",
       "1  BMW    1 Series  2011  premium unleaded (required)      300.0   \n",
       "2  BMW    1 Series  2011  premium unleaded (required)      300.0   \n",
       "3  BMW    1 Series  2011  premium unleaded (required)      230.0   \n",
       "4  BMW    1 Series  2011  premium unleaded (required)      230.0   \n",
       "\n",
       "   Engine Cylinders Transmission Type     Driven_Wheels  Number of Doors  \\\n",
       "0               6.0            MANUAL  rear wheel drive              2.0   \n",
       "1               6.0            MANUAL  rear wheel drive              2.0   \n",
       "2               6.0            MANUAL  rear wheel drive              2.0   \n",
       "3               6.0            MANUAL  rear wheel drive              2.0   \n",
       "4               6.0            MANUAL  rear wheel drive              2.0   \n",
       "\n",
       "                         Market Category Vehicle Size Vehicle Style  \\\n",
       "0  Factory Tuner,Luxury,High-Performance      Compact         Coupe   \n",
       "1                     Luxury,Performance      Compact   Convertible   \n",
       "2                Luxury,High-Performance      Compact         Coupe   \n",
       "3                     Luxury,Performance      Compact         Coupe   \n",
       "4                                 Luxury      Compact   Convertible   \n",
       "\n",
       "   highway MPG  city mpg  Popularity   MSRP  \n",
       "0           26        19        3916  46135  \n",
       "1           28        19        3916  40650  \n",
       "2           28        20        3916  36350  \n",
       "3           28        18        3916  29450  \n",
       "4           28        18        3916  34500  "
      ]
     },
     "execution_count": 85,
     "metadata": {},
     "output_type": "execute_result"
    }
   ],
   "source": [
    "##What's the average price of BMW cars in the below dataset?\n",
    "cars = pd.read_csv(r\"C:\\Users\\Varadharajan\\Desktop\\RMIT\\ML-Zoomcamp\\1. Introduction to Machine Learning\\data.csv\")\n",
    "cars.head()"
   ]
  },
  {
   "cell_type": "code",
   "execution_count": 86,
   "id": "41159f18",
   "metadata": {},
   "outputs": [
    {
     "data": {
      "text/plain": [
       "Make\n",
       "Acura              34888.0\n",
       "Alfa Romeo         61600.0\n",
       "Aston Martin      197910.0\n",
       "Audi               53452.0\n",
       "BMW                61547.0\n",
       "Bentley           247169.0\n",
       "Bugatti          1757224.0\n",
       "Buick              28207.0\n",
       "Cadillac           56231.0\n",
       "Chevrolet          28350.0\n",
       "Chrysler           26723.0\n",
       "Dodge              22390.0\n",
       "FIAT               22670.0\n",
       "Ferrari           238219.0\n",
       "Ford               27399.0\n",
       "GMC                30493.0\n",
       "Genesis            46617.0\n",
       "HUMMER             36464.0\n",
       "Honda              26674.0\n",
       "Hyundai            24597.0\n",
       "Infiniti           42394.0\n",
       "Kia                25310.0\n",
       "Lamborghini       331567.0\n",
       "Land Rover         67823.0\n",
       "Lexus              47549.0\n",
       "Lincoln            42840.0\n",
       "Lotus              69188.0\n",
       "Maserati          114208.0\n",
       "Maybach           546222.0\n",
       "Mazda              20039.0\n",
       "McLaren           239805.0\n",
       "Mercedes-Benz      71476.0\n",
       "Mitsubishi         21241.0\n",
       "Nissan             28583.0\n",
       "Oldsmobile         11543.0\n",
       "Plymouth            3123.0\n",
       "Pontiac            19322.0\n",
       "Porsche           101622.0\n",
       "Rolls-Royce       351131.0\n",
       "Saab               27414.0\n",
       "Scion              19932.0\n",
       "Spyker            213323.0\n",
       "Subaru             24828.0\n",
       "Suzuki             17907.0\n",
       "Tesla              85256.0\n",
       "Toyota             29030.0\n",
       "Volkswagen         28102.0\n",
       "Volvo              28541.0\n",
       "Name: MSRP, dtype: float64"
      ]
     },
     "execution_count": 86,
     "metadata": {},
     "output_type": "execute_result"
    }
   ],
   "source": [
    "cars.groupby('Make').MSRP.mean().round()"
   ]
  },
  {
   "cell_type": "code",
   "execution_count": 87,
   "id": "2e56feda",
   "metadata": {
    "scrolled": true
   },
   "outputs": [
    {
     "data": {
      "text/html": [
       "<div>\n",
       "<style scoped>\n",
       "    .dataframe tbody tr th:only-of-type {\n",
       "        vertical-align: middle;\n",
       "    }\n",
       "\n",
       "    .dataframe tbody tr th {\n",
       "        vertical-align: top;\n",
       "    }\n",
       "\n",
       "    .dataframe thead th {\n",
       "        text-align: right;\n",
       "    }\n",
       "</style>\n",
       "<table border=\"1\" class=\"dataframe\">\n",
       "  <thead>\n",
       "    <tr style=\"text-align: right;\">\n",
       "      <th></th>\n",
       "      <th>Year</th>\n",
       "      <th>Engine HP</th>\n",
       "      <th>Engine Cylinders</th>\n",
       "      <th>Number of Doors</th>\n",
       "      <th>highway MPG</th>\n",
       "      <th>city mpg</th>\n",
       "      <th>Popularity</th>\n",
       "      <th>MSRP</th>\n",
       "    </tr>\n",
       "  </thead>\n",
       "  <tbody>\n",
       "    <tr>\n",
       "      <th>count</th>\n",
       "      <td>334.000000</td>\n",
       "      <td>334.000000</td>\n",
       "      <td>334.000000</td>\n",
       "      <td>334.000000</td>\n",
       "      <td>334.000000</td>\n",
       "      <td>334.000000</td>\n",
       "      <td>334.0</td>\n",
       "      <td>334.000000</td>\n",
       "    </tr>\n",
       "    <tr>\n",
       "      <th>mean</th>\n",
       "      <td>2014.347305</td>\n",
       "      <td>326.907186</td>\n",
       "      <td>5.958084</td>\n",
       "      <td>3.161677</td>\n",
       "      <td>29.245509</td>\n",
       "      <td>20.739521</td>\n",
       "      <td>3916.0</td>\n",
       "      <td>61546.763473</td>\n",
       "    </tr>\n",
       "    <tr>\n",
       "      <th>std</th>\n",
       "      <td>4.387983</td>\n",
       "      <td>105.681659</td>\n",
       "      <td>1.728939</td>\n",
       "      <td>0.988324</td>\n",
       "      <td>10.257037</td>\n",
       "      <td>13.136879</td>\n",
       "      <td>0.0</td>\n",
       "      <td>27982.682153</td>\n",
       "    </tr>\n",
       "    <tr>\n",
       "      <th>min</th>\n",
       "      <td>1995.000000</td>\n",
       "      <td>170.000000</td>\n",
       "      <td>0.000000</td>\n",
       "      <td>2.000000</td>\n",
       "      <td>18.000000</td>\n",
       "      <td>10.000000</td>\n",
       "      <td>3916.0</td>\n",
       "      <td>4697.000000</td>\n",
       "    </tr>\n",
       "    <tr>\n",
       "      <th>25%</th>\n",
       "      <td>2015.000000</td>\n",
       "      <td>240.000000</td>\n",
       "      <td>4.000000</td>\n",
       "      <td>2.000000</td>\n",
       "      <td>25.000000</td>\n",
       "      <td>17.000000</td>\n",
       "      <td>3916.0</td>\n",
       "      <td>42300.000000</td>\n",
       "    </tr>\n",
       "    <tr>\n",
       "      <th>50%</th>\n",
       "      <td>2016.000000</td>\n",
       "      <td>300.000000</td>\n",
       "      <td>6.000000</td>\n",
       "      <td>4.000000</td>\n",
       "      <td>28.000000</td>\n",
       "      <td>20.000000</td>\n",
       "      <td>3916.0</td>\n",
       "      <td>51850.000000</td>\n",
       "    </tr>\n",
       "    <tr>\n",
       "      <th>75%</th>\n",
       "      <td>2016.000000</td>\n",
       "      <td>394.000000</td>\n",
       "      <td>7.500000</td>\n",
       "      <td>4.000000</td>\n",
       "      <td>33.000000</td>\n",
       "      <td>22.000000</td>\n",
       "      <td>3916.0</td>\n",
       "      <td>79725.000000</td>\n",
       "    </tr>\n",
       "    <tr>\n",
       "      <th>max</th>\n",
       "      <td>2017.000000</td>\n",
       "      <td>600.000000</td>\n",
       "      <td>12.000000</td>\n",
       "      <td>4.000000</td>\n",
       "      <td>111.000000</td>\n",
       "      <td>137.000000</td>\n",
       "      <td>3916.0</td>\n",
       "      <td>141200.000000</td>\n",
       "    </tr>\n",
       "  </tbody>\n",
       "</table>\n",
       "</div>"
      ],
      "text/plain": [
       "              Year   Engine HP  Engine Cylinders  Number of Doors  \\\n",
       "count   334.000000  334.000000        334.000000       334.000000   \n",
       "mean   2014.347305  326.907186          5.958084         3.161677   \n",
       "std       4.387983  105.681659          1.728939         0.988324   \n",
       "min    1995.000000  170.000000          0.000000         2.000000   \n",
       "25%    2015.000000  240.000000          4.000000         2.000000   \n",
       "50%    2016.000000  300.000000          6.000000         4.000000   \n",
       "75%    2016.000000  394.000000          7.500000         4.000000   \n",
       "max    2017.000000  600.000000         12.000000         4.000000   \n",
       "\n",
       "       highway MPG    city mpg  Popularity           MSRP  \n",
       "count   334.000000  334.000000       334.0     334.000000  \n",
       "mean     29.245509   20.739521      3916.0   61546.763473  \n",
       "std      10.257037   13.136879         0.0   27982.682153  \n",
       "min      18.000000   10.000000      3916.0    4697.000000  \n",
       "25%      25.000000   17.000000      3916.0   42300.000000  \n",
       "50%      28.000000   20.000000      3916.0   51850.000000  \n",
       "75%      33.000000   22.000000      3916.0   79725.000000  \n",
       "max     111.000000  137.000000      3916.0  141200.000000  "
      ]
     },
     "execution_count": 87,
     "metadata": {},
     "output_type": "execute_result"
    }
   ],
   "source": [
    "cars[cars['Make'] == \"BMW\"].describe()"
   ]
  },
  {
   "cell_type": "markdown",
   "id": "508d3144",
   "metadata": {},
   "source": [
    "### Question 4"
   ]
  },
  {
   "cell_type": "code",
   "execution_count": 88,
   "id": "aba4e4ed",
   "metadata": {},
   "outputs": [
    {
     "data": {
      "text/plain": [
       "Make                    0\n",
       "Model                   0\n",
       "Year                    0\n",
       "Engine Fuel Type        0\n",
       "Engine HP              51\n",
       "Engine Cylinders        8\n",
       "Transmission Type       0\n",
       "Driven_Wheels           0\n",
       "Number of Doors         5\n",
       "Market Category      1324\n",
       "Vehicle Size            0\n",
       "Vehicle Style           0\n",
       "highway MPG             0\n",
       "city mpg                0\n",
       "Popularity              0\n",
       "MSRP                    0\n",
       "dtype: int64"
      ]
     },
     "execution_count": 88,
     "metadata": {},
     "output_type": "execute_result"
    }
   ],
   "source": [
    "##Select a subset of cars after year 2015 (inclusive, i.e. 2015 and after). \n",
    "##How many of them have missing values for Engine HP?\n",
    "cars[cars['Year']>=2015].isnull().sum()"
   ]
  },
  {
   "cell_type": "markdown",
   "id": "a7b40bfe",
   "metadata": {},
   "source": [
    "### Question 5"
   ]
  },
  {
   "cell_type": "code",
   "execution_count": 89,
   "id": "69d40150",
   "metadata": {},
   "outputs": [],
   "source": [
    "##Calculate the average \"Engine HP\" in the dataset.\n",
    "##Use the fillna method and to fill the missing values in \"Engine HP\" with the mean value from the previous step.\n",
    "##Now, calcualte the average of \"Engine HP\" again.\n",
    "##Has it changed?"
   ]
  },
  {
   "cell_type": "code",
   "execution_count": 90,
   "id": "b10fbd86",
   "metadata": {},
   "outputs": [
    {
     "data": {
      "text/html": [
       "<div>\n",
       "<style scoped>\n",
       "    .dataframe tbody tr th:only-of-type {\n",
       "        vertical-align: middle;\n",
       "    }\n",
       "\n",
       "    .dataframe tbody tr th {\n",
       "        vertical-align: top;\n",
       "    }\n",
       "\n",
       "    .dataframe thead th {\n",
       "        text-align: right;\n",
       "    }\n",
       "</style>\n",
       "<table border=\"1\" class=\"dataframe\">\n",
       "  <thead>\n",
       "    <tr style=\"text-align: right;\">\n",
       "      <th></th>\n",
       "      <th>Year</th>\n",
       "      <th>Engine HP</th>\n",
       "      <th>Engine Cylinders</th>\n",
       "      <th>Number of Doors</th>\n",
       "      <th>highway MPG</th>\n",
       "      <th>city mpg</th>\n",
       "      <th>Popularity</th>\n",
       "      <th>MSRP</th>\n",
       "    </tr>\n",
       "  </thead>\n",
       "  <tbody>\n",
       "    <tr>\n",
       "      <th>count</th>\n",
       "      <td>11914.000000</td>\n",
       "      <td>11845.00000</td>\n",
       "      <td>11884.000000</td>\n",
       "      <td>11908.000000</td>\n",
       "      <td>11914.000000</td>\n",
       "      <td>11914.000000</td>\n",
       "      <td>11914.000000</td>\n",
       "      <td>1.191400e+04</td>\n",
       "    </tr>\n",
       "    <tr>\n",
       "      <th>mean</th>\n",
       "      <td>2010.384338</td>\n",
       "      <td>249.38607</td>\n",
       "      <td>5.628829</td>\n",
       "      <td>3.436093</td>\n",
       "      <td>26.637485</td>\n",
       "      <td>19.733255</td>\n",
       "      <td>1554.911197</td>\n",
       "      <td>4.059474e+04</td>\n",
       "    </tr>\n",
       "    <tr>\n",
       "      <th>std</th>\n",
       "      <td>7.579740</td>\n",
       "      <td>109.19187</td>\n",
       "      <td>1.780559</td>\n",
       "      <td>0.881315</td>\n",
       "      <td>8.863001</td>\n",
       "      <td>8.987798</td>\n",
       "      <td>1441.855347</td>\n",
       "      <td>6.010910e+04</td>\n",
       "    </tr>\n",
       "    <tr>\n",
       "      <th>min</th>\n",
       "      <td>1990.000000</td>\n",
       "      <td>55.00000</td>\n",
       "      <td>0.000000</td>\n",
       "      <td>2.000000</td>\n",
       "      <td>12.000000</td>\n",
       "      <td>7.000000</td>\n",
       "      <td>2.000000</td>\n",
       "      <td>2.000000e+03</td>\n",
       "    </tr>\n",
       "    <tr>\n",
       "      <th>25%</th>\n",
       "      <td>2007.000000</td>\n",
       "      <td>170.00000</td>\n",
       "      <td>4.000000</td>\n",
       "      <td>2.000000</td>\n",
       "      <td>22.000000</td>\n",
       "      <td>16.000000</td>\n",
       "      <td>549.000000</td>\n",
       "      <td>2.100000e+04</td>\n",
       "    </tr>\n",
       "    <tr>\n",
       "      <th>50%</th>\n",
       "      <td>2015.000000</td>\n",
       "      <td>227.00000</td>\n",
       "      <td>6.000000</td>\n",
       "      <td>4.000000</td>\n",
       "      <td>26.000000</td>\n",
       "      <td>18.000000</td>\n",
       "      <td>1385.000000</td>\n",
       "      <td>2.999500e+04</td>\n",
       "    </tr>\n",
       "    <tr>\n",
       "      <th>75%</th>\n",
       "      <td>2016.000000</td>\n",
       "      <td>300.00000</td>\n",
       "      <td>6.000000</td>\n",
       "      <td>4.000000</td>\n",
       "      <td>30.000000</td>\n",
       "      <td>22.000000</td>\n",
       "      <td>2009.000000</td>\n",
       "      <td>4.223125e+04</td>\n",
       "    </tr>\n",
       "    <tr>\n",
       "      <th>max</th>\n",
       "      <td>2017.000000</td>\n",
       "      <td>1001.00000</td>\n",
       "      <td>16.000000</td>\n",
       "      <td>4.000000</td>\n",
       "      <td>354.000000</td>\n",
       "      <td>137.000000</td>\n",
       "      <td>5657.000000</td>\n",
       "      <td>2.065902e+06</td>\n",
       "    </tr>\n",
       "  </tbody>\n",
       "</table>\n",
       "</div>"
      ],
      "text/plain": [
       "               Year    Engine HP  Engine Cylinders  Number of Doors  \\\n",
       "count  11914.000000  11845.00000      11884.000000     11908.000000   \n",
       "mean    2010.384338    249.38607          5.628829         3.436093   \n",
       "std        7.579740    109.19187          1.780559         0.881315   \n",
       "min     1990.000000     55.00000          0.000000         2.000000   \n",
       "25%     2007.000000    170.00000          4.000000         2.000000   \n",
       "50%     2015.000000    227.00000          6.000000         4.000000   \n",
       "75%     2016.000000    300.00000          6.000000         4.000000   \n",
       "max     2017.000000   1001.00000         16.000000         4.000000   \n",
       "\n",
       "        highway MPG      city mpg    Popularity          MSRP  \n",
       "count  11914.000000  11914.000000  11914.000000  1.191400e+04  \n",
       "mean      26.637485     19.733255   1554.911197  4.059474e+04  \n",
       "std        8.863001      8.987798   1441.855347  6.010910e+04  \n",
       "min       12.000000      7.000000      2.000000  2.000000e+03  \n",
       "25%       22.000000     16.000000    549.000000  2.100000e+04  \n",
       "50%       26.000000     18.000000   1385.000000  2.999500e+04  \n",
       "75%       30.000000     22.000000   2009.000000  4.223125e+04  \n",
       "max      354.000000    137.000000   5657.000000  2.065902e+06  "
      ]
     },
     "execution_count": 90,
     "metadata": {},
     "output_type": "execute_result"
    }
   ],
   "source": [
    "##Average engine HP in the dataset\n",
    "cars.describe()"
   ]
  },
  {
   "cell_type": "code",
   "execution_count": 91,
   "id": "b277f938",
   "metadata": {},
   "outputs": [
    {
     "data": {
      "text/plain": [
       "249.38607007176023"
      ]
     },
     "execution_count": 91,
     "metadata": {},
     "output_type": "execute_result"
    }
   ],
   "source": [
    "mean_hp_before = cars['Engine HP'].mean()\n",
    "mean_hp_before"
   ]
  },
  {
   "cell_type": "markdown",
   "id": "4b863c03",
   "metadata": {},
   "source": [
    "## Question 6"
   ]
  },
  {
   "cell_type": "code",
   "execution_count": null,
   "id": "9dce349b",
   "metadata": {},
   "outputs": [],
   "source": [
    "##Select all the \"Rolls-Royce\" cars from the dataset.\n",
    "##Select only columns \"Engine HP\", \"Engine Cylinders\", \"highway MPG\".\n",
    "##Now drop all duplicated rows using drop_duplicates method (you should get a dataframe with 7 rows).\n",
    "##Get the underlying NumPy array. Let's call it X.\n",
    "##Compute matrix-matrix multiplication between the transpose of X and X. To get the transpose, use X.T. Let's call the result XTX.\n",
    "##Invert XTX.\n",
    "##What's the sum of all the elements of the result?"
   ]
  },
  {
   "cell_type": "code",
   "execution_count": 118,
   "id": "15b110be",
   "metadata": {},
   "outputs": [
    {
     "data": {
      "text/plain": [
       "0.03221232067748617"
      ]
     },
     "execution_count": 118,
     "metadata": {},
     "output_type": "execute_result"
    }
   ],
   "source": [
    "cars_Rolls_Royce = cars[cars.Make == 'Rolls-Royce']\n",
    "cars_Rolls_Royce_new = cars_Rolls_Royce[['Engine HP', 'Engine Cylinders', 'highway MPG']]\n",
    "cars_RR_no_duplicates = cars_Rolls_Royce_new.drop_duplicates()\n",
    "X = cars_RR_no_duplicates.values\n",
    "##multiplying matrix and its transpose\n",
    "XTX = (X.T).dot(X)\n",
    "##Inverting XTX\n",
    "XTX_inv = np.linalg.inv(XTX)\n",
    "XTX_inv.sum()"
   ]
  },
  {
   "cell_type": "markdown",
   "id": "9533f084",
   "metadata": {},
   "source": [
    "### Question 7"
   ]
  },
  {
   "cell_type": "code",
   "execution_count": 119,
   "id": "bcc67ff4",
   "metadata": {},
   "outputs": [],
   "source": [
    "y = [1000, 1100, 900, 1200, 1000, 850, 1300]"
   ]
  },
  {
   "cell_type": "code",
   "execution_count": 122,
   "id": "11c5c562",
   "metadata": {},
   "outputs": [],
   "source": [
    "w = ((XTX_inv).dot(X.T)).dot(y)"
   ]
  },
  {
   "cell_type": "code",
   "execution_count": 123,
   "id": "f581ad8e",
   "metadata": {},
   "outputs": [
    {
     "data": {
      "text/plain": [
       "0.19989598183185908"
      ]
     },
     "execution_count": 123,
     "metadata": {},
     "output_type": "execute_result"
    }
   ],
   "source": [
    "w[0]"
   ]
  },
  {
   "cell_type": "code",
   "execution_count": null,
   "id": "cc15eddb",
   "metadata": {},
   "outputs": [],
   "source": []
  }
 ],
 "metadata": {
  "kernelspec": {
   "display_name": "Python 3 (ipykernel)",
   "language": "python",
   "name": "python3"
  },
  "language_info": {
   "codemirror_mode": {
    "name": "ipython",
    "version": 3
   },
   "file_extension": ".py",
   "mimetype": "text/x-python",
   "name": "python",
   "nbconvert_exporter": "python",
   "pygments_lexer": "ipython3",
   "version": "3.8.11"
  }
 },
 "nbformat": 4,
 "nbformat_minor": 5
}
